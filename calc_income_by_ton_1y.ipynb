{
  "nbformat": 4,
  "nbformat_minor": 0,
  "metadata": {
    "colab": {
      "provenance": [],
      "authorship_tag": "ABX9TyOuv5msneFBlFXXV1vjBu6a"
    },
    "kernelspec": {
      "name": "python3",
      "display_name": "Python 3"
    },
    "language_info": {
      "name": "python"
    }
  },
  "cells": [
    {
      "cell_type": "code",
      "source": [
        "from pathlib import Path as path\n",
        "# читаем файл с ценами и записываем их в список\n",
        "list_ton_costs = [float(cost) for cost in path('ton_cost.txt').read_text().split()]"
      ],
      "metadata": {
        "id": "PJhsjIfN0RFR"
      },
      "execution_count": null,
      "outputs": []
    },
    {
      "cell_type": "code",
      "source": [
        "monses = ['april','may','june','july','august','september','october','nowember','december','jenery','feberery','march']\n",
        "# заполнение списка цен с клавы \n",
        "for i in monses:\n",
        "  print(f'enter ton coast for {i}')\n",
        "  list_ton_costs.append(input())"
      ],
      "metadata": {
        "id": "oqvqEVDY9vqX"
      },
      "execution_count": null,
      "outputs": []
    },
    {
      "cell_type": "code",
      "source": [
        "def get_income_by_date_range(current_cost,list_coin_costs,every_month_deposit, month_count):\n",
        "  \"\"\"\n",
        "  функция для расчета прибыли для диапазона цен за определенный период \n",
        "  \"\"\"\n",
        "  to_coin =  [round(every_month_deposit/i,2)  for i in list_coin_costs[-(month_count):]]\n",
        "  total_coin_amount = sum(to_coin)\n",
        "  total_sum = (total_coin_amount*current_cost)-(every_month_deposit*month_count)\n",
        "\n",
        "  print(f'you to earn for last {month_count} month :{round(total_sum,2)}$ if curent coin coast be {current_cost}')\n",
        "  print(f'average month income {round(total_sum/month_count, 2)}')"
      ],
      "metadata": {
        "id": "46pwymfcB-y1"
      },
      "execution_count": null,
      "outputs": []
    },
    {
      "cell_type": "code",
      "source": [
        "\n",
        "import datetime\n",
        "\n",
        "def generate_dates() -> list[str]:\n",
        "  '''\n",
        "  создание списка дат за прошлый год с текущего для в котором изменяется только месяц\n",
        "  :return: list[str]\n",
        "  '''\n",
        "\n",
        "  current_year = datetime.datetime.now().year  # Получаем текущий год\n",
        "  current_month = datetime.datetime.now().month  # Получаем текущий месяц\n",
        "  current_day = datetime.datetime.now().day  # Получаем текущий день\n",
        "  dates = []\n",
        "  for i in range(1, 14):\n",
        "      # Вычисляем год и месяц для текущей итерации\n",
        "      year = current_year -1\n",
        "      month = current_month + i - 1\n",
        "      # Если месяц больше 12, добавляем год и уменьшаем месяц на 12\n",
        "      if month > 12:\n",
        "          year += 1\n",
        "          month -= 12\n",
        "      try:\n",
        "          # Форматируем дату в строку в формате \"dd-mm-yyyy\" и добавляем в массив\n",
        "          date = datetime.date(year, month, current_day).strftime(\"%d-%m-%Y\")\n",
        "          dates.append(date)\n",
        "      except ValueError:\n",
        "          # Игнорируем ошибки дат, которых нет в конкретном месяце\n",
        "          pass\n",
        "  return dates\n",
        "\n",
        "dates = generate_dates()\n",
        "print(dates)"
      ],
      "metadata": {
        "colab": {
          "base_uri": "https://localhost:8080/"
        },
        "id": "g8cZtuEdtp2j",
        "outputId": "b09e4859-dbd9-4955-90c0-5bf32a9c77d8"
      },
      "execution_count": null,
      "outputs": [
        {
          "output_type": "stream",
          "name": "stdout",
          "text": [
            "['18-04-2022', '18-05-2022', '18-06-2022', '18-07-2022', '18-08-2022', '18-09-2022', '18-10-2022', '18-11-2022', '18-12-2022', '18-01-2023', '18-02-2023', '18-03-2023', '18-04-2023']\n"
          ]
        }
      ]
    },
    {
      "cell_type": "code",
      "source": [
        "generate_dates()"
      ],
      "metadata": {
        "id": "FldnkgDUuW_y"
      },
      "execution_count": null,
      "outputs": []
    },
    {
      "cell_type": "code",
      "source": [
        "proxyies =[{'http': 'http://198.59.191.234:8080'},\n",
        "          {'http': 'http://200.25.254.193:54240'},\n",
        "          {'http': 'http://210.172.199.88:8080'},\n",
        "          {'http': 'http://71.19.248.67:8001'},\n",
        "          {'http': 'http://165.227.81.188:9958'} ]"
      ],
      "metadata": {
        "id": "k4jVOXA4B_pg"
      },
      "execution_count": null,
      "outputs": []
    },
    {
      "cell_type": "code",
      "source": [
        "from tqdm.utils import proxy\n",
        "import requests\n",
        "from tqdm import tqdm\n",
        "from time import sleep\n",
        "\n",
        "# https://api.coingecko.com/api/v3/coins/the-open-network/history?date=17-09-2022\n",
        "\n",
        "def get_coin_amount(list_date, proxies=None) -> list[float]:\n",
        "  '''\n",
        "  функция для получения от api coingecko информации о цене коинов в \n",
        "  прошлом за определенный промежуток времени\n",
        "\n",
        "  :param list_date: список с датами в формате \"dd-mm-yyyy\"\n",
        "  :param proxies: list[dict] список из словарей с проуси серверами\n",
        "  :return список с датами  \n",
        "  '''\n",
        "\n",
        "  coin_market_cost = []\n",
        "  proxy_iter = iter(proxies)\n",
        "\n",
        "  base_url = \"https://api.coingecko.com/api/v3\"\n",
        "  crypto_currency = \"the-open-network\"  # Криптовалюта TON\n",
        "  fiat_currency = \"usd\"  # Валюта для отображения цены\n",
        "  for date in tqdm(list_date):\n",
        "    url = f\"{base_url}/coins/{crypto_currency}/history?date={date}&localization=false\"\n",
        "  \n",
        "  # Отправка GET-запроса\n",
        "    try:\n",
        "      response = requests.get(url, proxies=proxy_iter.__next__())\n",
        "      print(response.status_code)\n",
        "    except StopIteration:\n",
        "      proxy_iter = iter(proxies)\n",
        "      response = requests.get(url, proxies=proxy_iter.__next__())\n",
        "    data = response.json()\n",
        "    last_coin_cost = data.get('market_data',None).get('current_price',None).get('usd',None)\n",
        "    coin_market_cost.append(round(last_coin_cost,2))\n",
        "\n",
        "  return coin_market_cost\n"
      ],
      "metadata": {
        "id": "LMnbPpyRpZVO"
      },
      "execution_count": null,
      "outputs": []
    },
    {
      "cell_type": "code",
      "source": [
        "list_ton_costs = get_coin_amount(dates, proxyies)"
      ],
      "metadata": {
        "colab": {
          "base_uri": "https://localhost:8080/"
        },
        "id": "DNuIrpbd7cC2",
        "outputId": "6498f35d-d3bd-40da-c1d2-25fd0fb21e70"
      },
      "execution_count": null,
      "outputs": [
        {
          "output_type": "stream",
          "name": "stderr",
          "text": [
            " 15%|█▌        | 2/13 [00:00<00:01,  5.87it/s]"
          ]
        },
        {
          "output_type": "stream",
          "name": "stdout",
          "text": [
            "200\n",
            "200\n"
          ]
        },
        {
          "output_type": "stream",
          "name": "stderr",
          "text": [
            " 31%|███       | 4/13 [00:00<00:01,  6.23it/s]"
          ]
        },
        {
          "output_type": "stream",
          "name": "stdout",
          "text": [
            "200\n",
            "200\n"
          ]
        },
        {
          "output_type": "stream",
          "name": "stderr",
          "text": [
            " 46%|████▌     | 6/13 [00:00<00:01,  6.30it/s]"
          ]
        },
        {
          "output_type": "stream",
          "name": "stdout",
          "text": [
            "200\n"
          ]
        },
        {
          "output_type": "stream",
          "name": "stderr",
          "text": [
            " 62%|██████▏   | 8/13 [00:01<00:00,  6.46it/s]"
          ]
        },
        {
          "output_type": "stream",
          "name": "stdout",
          "text": [
            "200\n",
            "200\n"
          ]
        },
        {
          "output_type": "stream",
          "name": "stderr",
          "text": [
            " 77%|███████▋  | 10/13 [00:01<00:00,  6.48it/s]"
          ]
        },
        {
          "output_type": "stream",
          "name": "stdout",
          "text": [
            "200\n",
            "200\n"
          ]
        },
        {
          "output_type": "stream",
          "name": "stderr",
          "text": [
            " 92%|█████████▏| 12/13 [00:01<00:00,  6.62it/s]"
          ]
        },
        {
          "output_type": "stream",
          "name": "stdout",
          "text": [
            "200\n"
          ]
        },
        {
          "output_type": "stream",
          "name": "stderr",
          "text": [
            "100%|██████████| 13/13 [00:02<00:00,  5.82it/s]"
          ]
        },
        {
          "output_type": "stream",
          "name": "stdout",
          "text": [
            "200\n"
          ]
        },
        {
          "output_type": "stream",
          "name": "stderr",
          "text": [
            "\n"
          ]
        }
      ]
    },
    {
      "cell_type": "code",
      "source": [
        "with open(\"coin_cost.txt\",\"w\") as f:\n",
        "# запись списка цен в файл\n",
        "  for i in list_ton_costs:\n",
        "    f.write(i+\"\\n\")"
      ],
      "metadata": {
        "id": "cMFH2nTcwfaX"
      },
      "execution_count": null,
      "outputs": []
    },
    {
      "cell_type": "code",
      "source": [
        "current_cost = list_ton_costs[-1]"
      ],
      "metadata": {
        "id": "1fHwDCMdJsBA"
      },
      "execution_count": null,
      "outputs": []
    },
    {
      "cell_type": "code",
      "source": [
        "get_income_by_date_range(current_cost,list_ton_costs,1000,12)"
      ],
      "metadata": {
        "colab": {
          "base_uri": "https://localhost:8080/"
        },
        "id": "_lQ8Zo_AIKRN",
        "outputId": "0ec14148-261e-47b0-a639-8ffcd33cb441"
      },
      "execution_count": null,
      "outputs": [
        {
          "output_type": "stream",
          "name": "stdout",
          "text": [
            "you to earn for last 12 month :5784.15$ if curent coin coast be 2.3\n",
            "average month income 482.01\n"
          ]
        }
      ]
    }
  ]
}